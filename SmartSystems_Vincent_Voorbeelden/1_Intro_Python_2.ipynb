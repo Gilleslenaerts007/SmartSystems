{
 "cells": [
  {
   "cell_type": "markdown",
   "metadata": {},
   "source": [
    "# Variables"
   ]
  },
  {
   "cell_type": "code",
   "execution_count": 3,
   "metadata": {},
   "outputs": [
    {
     "name": "stdout",
     "output_type": "stream",
     "text": [
      "56\n"
     ]
    }
   ],
   "source": [
    "a = 5\n",
    "b = 10\n",
    "my_variable = 56\n",
    "my_10_variable = 10\n",
    "any_variable_name= 356\n",
    "\n",
    "string_variable = \"Hello World\\n\"\n",
    "single_quotes = 'Hello World\\n'\n",
    "\n",
    "print(my_variable)"
   ]
  },
  {
   "cell_type": "code",
   "execution_count": 6,
   "metadata": {},
   "outputs": [
    {
     "name": "stdout",
     "output_type": "stream",
     "text": [
      "56 Hi\n",
      "\n"
     ]
    }
   ],
   "source": [
    "print(str(my_variable) + ' Hi' + '\\n')"
   ]
  },
  {
   "cell_type": "markdown",
   "metadata": {},
   "source": [
    "# Methods"
   ]
  },
  {
   "cell_type": "code",
   "execution_count": 9,
   "metadata": {},
   "outputs": [
    {
     "name": "stdout",
     "output_type": "stream",
     "text": [
      "Hello\n",
      " World!\n",
      "\n"
     ]
    }
   ],
   "source": [
    "def my_print_method():\n",
    "    print('Hello')\n",
    "    print(' World!\\n')\n",
    "\n",
    "my_print_method()"
   ]
  },
  {
   "cell_type": "code",
   "execution_count": 10,
   "metadata": {},
   "outputs": [
    {
     "name": "stdout",
     "output_type": "stream",
     "text": [
      "Hi\n"
     ]
    }
   ],
   "source": [
    "# parameter\n",
    "\n",
    "def my_print_method(my_parameter):\n",
    "    print(my_parameter)\n",
    "\n",
    "my_print_method('Hi')"
   ]
  },
  {
   "cell_type": "code",
   "execution_count": 13,
   "metadata": {},
   "outputs": [
    {
     "name": "stdout",
     "output_type": "stream",
     "text": [
      "20\n"
     ]
    }
   ],
   "source": [
    "def my_multiply_method(argument_one, argument_two):\n",
    "    return argument_one * argument_two\n",
    "\n",
    "result=my_multiply_method(4,5)\n",
    "print(result)"
   ]
  },
  {
   "cell_type": "code",
   "execution_count": 14,
   "metadata": {},
   "outputs": [
    {
     "name": "stdout",
     "output_type": "stream",
     "text": [
      "20\n"
     ]
    }
   ],
   "source": [
    "my_print_method(my_multiply_method(4,5))"
   ]
  },
  {
   "cell_type": "markdown",
   "metadata": {},
   "source": [
    "# Lists"
   ]
  },
  {
   "cell_type": "code",
   "execution_count": 16,
   "metadata": {},
   "outputs": [
    {
     "name": "stdout",
     "output_type": "stream",
     "text": [
      "82.33333333333333\n"
     ]
    }
   ],
   "source": [
    "grade_one = 77\n",
    "grade_two = 80\n",
    "grade_three = 90\n",
    "print((grade_one + grade_two + grade_three)/3)"
   ]
  },
  {
   "cell_type": "code",
   "execution_count": 28,
   "metadata": {},
   "outputs": [
    {
     "name": "stdout",
     "output_type": "stream",
     "text": [
      "Number of Grades:3\n",
      "Mean:82.33333333333333\n"
     ]
    }
   ],
   "source": [
    "# most flexible of all\n",
    "grades = [80,77,90]\n",
    "print('Number of Grades:'+str(len(grades)))\n",
    "print('Mean:'+str(sum(grades)/len(grades)))"
   ]
  },
  {
   "cell_type": "markdown",
   "metadata": {},
   "source": [
    "# Tuple"
   ]
  },
  {
   "cell_type": "code",
   "execution_count": 22,
   "metadata": {},
   "outputs": [
    {
     "name": "stdout",
     "output_type": "stream",
     "text": [
      "(77, 80, 90)\n"
     ]
    }
   ],
   "source": [
    "# A tuple is immutable, we cannot resize => the number of elements is fixed, with a list we can resize\n",
    "tuple_grade = (77,80,90)\n",
    "print(tuple_grade)"
   ]
  },
  {
   "cell_type": "markdown",
   "metadata": {},
   "source": [
    "# Sets"
   ]
  },
  {
   "cell_type": "code",
   "execution_count": 23,
   "metadata": {},
   "outputs": [
    {
     "name": "stdout",
     "output_type": "stream",
     "text": [
      "{80, 90, 77}\n"
     ]
    }
   ],
   "source": [
    "#Sets contain unique values, unordered\n",
    "sets_grade = {77,80,90,80}\n",
    "print(sets_grade)"
   ]
  },
  {
   "cell_type": "markdown",
   "metadata": {},
   "source": [
    "# List Operations"
   ]
  },
  {
   "cell_type": "code",
   "execution_count": 29,
   "metadata": {},
   "outputs": [
    {
     "name": "stdout",
     "output_type": "stream",
     "text": [
      "[80, 77, 90, 100]\n"
     ]
    }
   ],
   "source": [
    "# Stay in order they created in\n",
    "grades.append(100)\n",
    "print(grades)"
   ]
  },
  {
   "cell_type": "markdown",
   "metadata": {},
   "source": [
    "# Tuple Operations"
   ]
  },
  {
   "cell_type": "code",
   "execution_count": 30,
   "metadata": {},
   "outputs": [
    {
     "name": "stdout",
     "output_type": "stream",
     "text": [
      "(77, 80, 90, 100)\n"
     ]
    }
   ],
   "source": [
    "tuple_grade = tuple_grade + (100,)\n",
    "print(tuple_grade)"
   ]
  },
  {
   "cell_type": "code",
   "execution_count": 32,
   "metadata": {},
   "outputs": [
    {
     "name": "stdout",
     "output_type": "stream",
     "text": [
      "77\n"
     ]
    }
   ],
   "source": [
    "print(tuple_grade[0])"
   ]
  },
  {
   "cell_type": "code",
   "execution_count": 37,
   "metadata": {},
   "outputs": [],
   "source": [
    "# Error\n",
    "# tuple_grade[0] = 60\n",
    "# print(tuple_grade)"
   ]
  },
  {
   "cell_type": "markdown",
   "metadata": {},
   "source": [
    "# Set Operations"
   ]
  },
  {
   "cell_type": "code",
   "execution_count": 36,
   "metadata": {},
   "outputs": [],
   "source": [
    "# Error\n",
    "# set_grade[0] = 60\n",
    "# print(set_grade)"
   ]
  },
  {
   "cell_type": "code",
   "execution_count": 39,
   "metadata": {},
   "outputs": [
    {
     "name": "stdout",
     "output_type": "stream",
     "text": [
      "{80, 90, 60, 77}\n"
     ]
    }
   ],
   "source": [
    "sets_grade.add(60)\n",
    "print(sets_grade)"
   ]
  },
  {
   "cell_type": "markdown",
   "metadata": {},
   "source": [
    "# Advanced Set Operations"
   ]
  },
  {
   "cell_type": "code",
   "execution_count": 43,
   "metadata": {},
   "outputs": [
    {
     "name": "stdout",
     "output_type": "stream",
     "text": [
      "{1, 3}\n",
      "{1, 2, 3, 4, 5, 7, 9, 10, 11}\n",
      "{2, 4}\n"
     ]
    }
   ],
   "source": [
    "set_one = {1,2,3,4,5}\n",
    "set_two = {1,7,3,9,10,11}\n",
    "print(set_one.intersection(set_two))\n",
    "print(set_one.union(set_two))\n",
    "print({1,2,3,4}.difference(set_two))"
   ]
  },
  {
   "cell_type": "markdown",
   "metadata": {},
   "source": [
    "# Loops in Python"
   ]
  },
  {
   "cell_type": "code",
   "execution_count": 44,
   "metadata": {},
   "outputs": [
    {
     "name": "stdout",
     "output_type": "stream",
     "text": [
      "H\n"
     ]
    }
   ],
   "source": [
    "my_variable= \"Hello\"\n",
    "print(my_variable[0])"
   ]
  },
  {
   "cell_type": "code",
   "execution_count": 45,
   "metadata": {},
   "outputs": [
    {
     "name": "stdout",
     "output_type": "stream",
     "text": [
      "H\n",
      "e\n",
      "l\n"
     ]
    }
   ],
   "source": [
    "print(my_variable[0])\n",
    "print(my_variable[1])\n",
    "print(my_variable[2])"
   ]
  },
  {
   "cell_type": "code",
   "execution_count": 47,
   "metadata": {},
   "outputs": [
    {
     "name": "stdout",
     "output_type": "stream",
     "text": [
      "o\n",
      "o\n",
      "o\n",
      "o\n",
      "o\n"
     ]
    }
   ],
   "source": [
    "for charact in my_variable: # Iterable => strings, lists, sets, tuples and more\n",
    "    print(character)"
   ]
  },
  {
   "cell_type": "code",
   "execution_count": 49,
   "metadata": {},
   "outputs": [
    {
     "name": "stdout",
     "output_type": "stream",
     "text": [
      "1\n",
      "4\n",
      "9\n",
      "25\n",
      "4\n"
     ]
    }
   ],
   "source": [
    "my_list = [1,2,3,5,2]\n",
    "for number in my_list:\n",
    "    print(number**2)"
   ]
  },
  {
   "cell_type": "code",
   "execution_count": 54,
   "metadata": {},
   "outputs": [
    {
     "name": "stdout",
     "output_type": "stream",
     "text": [
      "10\n",
      "Should we print again? (y/n)y\n",
      "10\n",
      "Should we print again? (y/n)n\n"
     ]
    }
   ],
   "source": [
    "user_wants_number = True\n",
    "while user_wants_number == True:\n",
    "    print(10)\n",
    "    user_input=input(\"Should we print again? (y/n)\")\n",
    "    if user_input == 'n': \n",
    "        user_wants_number = False"
   ]
  },
  {
   "cell_type": "code",
   "execution_count": null,
   "metadata": {},
   "outputs": [],
   "source": []
  },
  {
   "cell_type": "code",
   "execution_count": null,
   "metadata": {},
   "outputs": [],
   "source": []
  }
 ],
 "metadata": {
  "kernelspec": {
   "display_name": "Python 3",
   "language": "python",
   "name": "python3"
  },
  "language_info": {
   "codemirror_mode": {
    "name": "ipython",
    "version": 3
   },
   "file_extension": ".py",
   "mimetype": "text/x-python",
   "name": "python",
   "nbconvert_exporter": "python",
   "pygments_lexer": "ipython3",
   "version": "3.6.6"
  }
 },
 "nbformat": 4,
 "nbformat_minor": 2
}
