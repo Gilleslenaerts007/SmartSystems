{
 "cells": [
  {
   "cell_type": "markdown",
   "metadata": {},
   "source": [
    "# Linear Regression"
   ]
  },
  {
   "cell_type": "markdown",
   "metadata": {},
   "source": [
    "Mean Squared Error: Average length of real versus predicted value; minimize the mean squared error (cost function)"
   ]
  },
  {
   "cell_type": "markdown",
   "metadata": {},
   "source": [
    "Modelling Best Practice:\n",
    "- use cost function to fit the model  \n",
    "- Develop multiple models  \n",
    "- Compare results and choose best one"
   ]
  },
  {
   "cell_type": "markdown",
   "metadata": {},
   "source": [
    "Other model Metrics:\n",
    "- Sum of Squared Error (SSE)  \n",
    "- Total Sum of Squares (TSS)  \n",
    "- Correlation Coefficient (RR)"
   ]
  },
  {
   "cell_type": "markdown",
   "metadata": {},
   "source": [
    "## Linear Regression\n",
    "Linear Regression:  \n",
    "- fitting involves minimizing cost function (slow)\n",
    "- model has few parameters (memory efficient)  \n",
    "- prediction involves calculation (fast)    "
   ]
  },
  {
   "cell_type": "code",
   "execution_count": null,
   "metadata": {},
   "outputs": [],
   "source": [
    "# Linear Regression Syntax\n",
    "from sklearn.linear_model import LinearRegression\n",
    "LR = LinearRegression()\n",
    "LR = LR.fit(X_train, y_train)\n",
    "y_predict = LR.predict(X_test)"
   ]
  },
  {
   "cell_type": "markdown",
   "metadata": {},
   "source": [
    "# Advanced Linear Regression"
   ]
  },
  {
   "cell_type": "markdown",
   "metadata": {},
   "source": [
    "Scaling!  \n",
    "Transformation of Data distributions (features and predicted data are often skewed)  "
   ]
  },
  {
   "cell_type": "code",
   "execution_count": null,
   "metadata": {},
   "outputs": [],
   "source": [
    "# Syntax of common function that take inputs and output a more \"gaussian\" looking curve\n",
    "from numpy import log, log1p\n",
    "from scipy.stats import boxcox"
   ]
  },
  {
   "cell_type": "markdown",
   "metadata": {},
   "source": [
    "Some transformations:  \n",
    "- Feature type is continuous (numerical values) => Standard scaling, min-max scaling  \n",
    "- Nominal (categorical, unordered features (True or False) => One-hot encoding (0,1)  \n",
    "- Ordinal (categorical, ordered features (movie ratings) => Ordinal encoding (0,1,2,3)  \n"
   ]
  },
  {
   "cell_type": "code",
   "execution_count": null,
   "metadata": {},
   "outputs": [],
   "source": [
    "# Syntax for some transformations\n",
    "from sklearn.preprocessing import LabelEncoder, LabelBinarizer, OneHotEncoder\n",
    "from sklearn.feature_extraction import DictVectorizer\n",
    "from pandas import get_dummies"
   ]
  },
  {
   "cell_type": "markdown",
   "metadata": {},
   "source": [
    "Another preprocessing trick we can apply is to create new features out of the ones we already have (for instance fitting a polynomial) The resulting algorithm is still linear, since the outcome is still a linear combination of the features  \n",
    "Non-linear relationship between one feature and the other does not make the algorithm non-linear"
   ]
  },
  {
   "cell_type": "markdown",
   "metadata": {},
   "source": [
    "We can also include variable interactions as a new feature (get creative in creating additional features)"
   ]
  },
  {
   "cell_type": "code",
   "execution_count": null,
   "metadata": {},
   "outputs": [],
   "source": [
    "# Syntax for polynomial Features\n",
    "from sklearn.preprocessing import PolynomialFeatures\n",
    "polyFeat = PolynomialFeatures(degree=2)\n",
    "polyFeat = PolyFeat.fit(X_data)\n",
    "X_poly = polyFeat.transform(X_data)"
   ]
  }
 ],
 "metadata": {
  "kernelspec": {
   "display_name": "Python 3",
   "language": "python",
   "name": "python3"
  },
  "language_info": {
   "codemirror_mode": {
    "name": "ipython",
    "version": 3
   },
   "file_extension": ".py",
   "mimetype": "text/x-python",
   "name": "python",
   "nbconvert_exporter": "python",
   "pygments_lexer": "ipython3",
   "version": "3.6.6"
  }
 },
 "nbformat": 4,
 "nbformat_minor": 2
}
